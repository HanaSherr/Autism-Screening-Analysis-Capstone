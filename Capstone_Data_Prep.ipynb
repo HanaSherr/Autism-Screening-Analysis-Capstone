{
  "nbformat": 4,
  "nbformat_minor": 0,
  "metadata": {
    "colab": {
      "name": "Capstone Data Prep",
      "provenance": []
    },
    "kernelspec": {
      "name": "python3",
      "display_name": "Python 3"
    },
    "language_info": {
      "name": "python"
    }
  },
  "cells": [
    {
      "cell_type": "code",
      "execution_count": null,
      "metadata": {
        "id": "x2IyMLVazM5a"
      },
      "outputs": [],
      "source": [
        "import pandas as pd\n",
        "import numpy as np"
      ]
    },
    {
      "cell_type": "code",
      "source": [
        "autism_df = pd.read_csv('autism_screening.csv')\n",
        "autism_df.head()"
      ],
      "metadata": {
        "colab": {
          "base_uri": "https://localhost:8080/",
          "height": 386
        },
        "id": "Y6DenR7Oz7ZH",
        "outputId": "3faa876f-fde5-4378-84d0-93d95d2d7273"
      },
      "execution_count": null,
      "outputs": [
        {
          "output_type": "execute_result",
          "data": {
            "text/plain": [
              "   A1_Score  A2_Score  A3_Score  A4_Score  A5_Score  A6_Score  A7_Score  \\\n",
              "0         1         1         1         1         0         0         1   \n",
              "1         1         1         0         1         0         0         0   \n",
              "2         1         1         0         1         1         0         1   \n",
              "3         1         1         0         1         0         0         1   \n",
              "4         1         0         0         0         0         0         0   \n",
              "\n",
              "   A8_Score  A9_Score  A10_Score  ...  gender       ethnicity jundice austim  \\\n",
              "0         1         0          0  ...       f  White-European      no     no   \n",
              "1         1         0          1  ...       m          Latino      no    yes   \n",
              "2         1         1          1  ...       m          Latino     yes    yes   \n",
              "3         1         0          1  ...       f  White-European      no    yes   \n",
              "4         1         0          0  ...       f               ?      no     no   \n",
              "\n",
              "   contry_of_res used_app_before result     age_desc relation Class/ASD  \n",
              "0  United States              no    6.0  18 and more     Self        NO  \n",
              "1         Brazil              no    5.0  18 and more     Self        NO  \n",
              "2          Spain              no    8.0  18 and more   Parent       YES  \n",
              "3  United States              no    6.0  18 and more     Self        NO  \n",
              "4          Egypt              no    2.0  18 and more        ?        NO  \n",
              "\n",
              "[5 rows x 21 columns]"
            ],
            "text/html": [
              "\n",
              "  <div id=\"df-e671085b-85a3-424b-b4df-69721fd5db5b\">\n",
              "    <div class=\"colab-df-container\">\n",
              "      <div>\n",
              "<style scoped>\n",
              "    .dataframe tbody tr th:only-of-type {\n",
              "        vertical-align: middle;\n",
              "    }\n",
              "\n",
              "    .dataframe tbody tr th {\n",
              "        vertical-align: top;\n",
              "    }\n",
              "\n",
              "    .dataframe thead th {\n",
              "        text-align: right;\n",
              "    }\n",
              "</style>\n",
              "<table border=\"1\" class=\"dataframe\">\n",
              "  <thead>\n",
              "    <tr style=\"text-align: right;\">\n",
              "      <th></th>\n",
              "      <th>A1_Score</th>\n",
              "      <th>A2_Score</th>\n",
              "      <th>A3_Score</th>\n",
              "      <th>A4_Score</th>\n",
              "      <th>A5_Score</th>\n",
              "      <th>A6_Score</th>\n",
              "      <th>A7_Score</th>\n",
              "      <th>A8_Score</th>\n",
              "      <th>A9_Score</th>\n",
              "      <th>A10_Score</th>\n",
              "      <th>...</th>\n",
              "      <th>gender</th>\n",
              "      <th>ethnicity</th>\n",
              "      <th>jundice</th>\n",
              "      <th>austim</th>\n",
              "      <th>contry_of_res</th>\n",
              "      <th>used_app_before</th>\n",
              "      <th>result</th>\n",
              "      <th>age_desc</th>\n",
              "      <th>relation</th>\n",
              "      <th>Class/ASD</th>\n",
              "    </tr>\n",
              "  </thead>\n",
              "  <tbody>\n",
              "    <tr>\n",
              "      <th>0</th>\n",
              "      <td>1</td>\n",
              "      <td>1</td>\n",
              "      <td>1</td>\n",
              "      <td>1</td>\n",
              "      <td>0</td>\n",
              "      <td>0</td>\n",
              "      <td>1</td>\n",
              "      <td>1</td>\n",
              "      <td>0</td>\n",
              "      <td>0</td>\n",
              "      <td>...</td>\n",
              "      <td>f</td>\n",
              "      <td>White-European</td>\n",
              "      <td>no</td>\n",
              "      <td>no</td>\n",
              "      <td>United States</td>\n",
              "      <td>no</td>\n",
              "      <td>6.0</td>\n",
              "      <td>18 and more</td>\n",
              "      <td>Self</td>\n",
              "      <td>NO</td>\n",
              "    </tr>\n",
              "    <tr>\n",
              "      <th>1</th>\n",
              "      <td>1</td>\n",
              "      <td>1</td>\n",
              "      <td>0</td>\n",
              "      <td>1</td>\n",
              "      <td>0</td>\n",
              "      <td>0</td>\n",
              "      <td>0</td>\n",
              "      <td>1</td>\n",
              "      <td>0</td>\n",
              "      <td>1</td>\n",
              "      <td>...</td>\n",
              "      <td>m</td>\n",
              "      <td>Latino</td>\n",
              "      <td>no</td>\n",
              "      <td>yes</td>\n",
              "      <td>Brazil</td>\n",
              "      <td>no</td>\n",
              "      <td>5.0</td>\n",
              "      <td>18 and more</td>\n",
              "      <td>Self</td>\n",
              "      <td>NO</td>\n",
              "    </tr>\n",
              "    <tr>\n",
              "      <th>2</th>\n",
              "      <td>1</td>\n",
              "      <td>1</td>\n",
              "      <td>0</td>\n",
              "      <td>1</td>\n",
              "      <td>1</td>\n",
              "      <td>0</td>\n",
              "      <td>1</td>\n",
              "      <td>1</td>\n",
              "      <td>1</td>\n",
              "      <td>1</td>\n",
              "      <td>...</td>\n",
              "      <td>m</td>\n",
              "      <td>Latino</td>\n",
              "      <td>yes</td>\n",
              "      <td>yes</td>\n",
              "      <td>Spain</td>\n",
              "      <td>no</td>\n",
              "      <td>8.0</td>\n",
              "      <td>18 and more</td>\n",
              "      <td>Parent</td>\n",
              "      <td>YES</td>\n",
              "    </tr>\n",
              "    <tr>\n",
              "      <th>3</th>\n",
              "      <td>1</td>\n",
              "      <td>1</td>\n",
              "      <td>0</td>\n",
              "      <td>1</td>\n",
              "      <td>0</td>\n",
              "      <td>0</td>\n",
              "      <td>1</td>\n",
              "      <td>1</td>\n",
              "      <td>0</td>\n",
              "      <td>1</td>\n",
              "      <td>...</td>\n",
              "      <td>f</td>\n",
              "      <td>White-European</td>\n",
              "      <td>no</td>\n",
              "      <td>yes</td>\n",
              "      <td>United States</td>\n",
              "      <td>no</td>\n",
              "      <td>6.0</td>\n",
              "      <td>18 and more</td>\n",
              "      <td>Self</td>\n",
              "      <td>NO</td>\n",
              "    </tr>\n",
              "    <tr>\n",
              "      <th>4</th>\n",
              "      <td>1</td>\n",
              "      <td>0</td>\n",
              "      <td>0</td>\n",
              "      <td>0</td>\n",
              "      <td>0</td>\n",
              "      <td>0</td>\n",
              "      <td>0</td>\n",
              "      <td>1</td>\n",
              "      <td>0</td>\n",
              "      <td>0</td>\n",
              "      <td>...</td>\n",
              "      <td>f</td>\n",
              "      <td>?</td>\n",
              "      <td>no</td>\n",
              "      <td>no</td>\n",
              "      <td>Egypt</td>\n",
              "      <td>no</td>\n",
              "      <td>2.0</td>\n",
              "      <td>18 and more</td>\n",
              "      <td>?</td>\n",
              "      <td>NO</td>\n",
              "    </tr>\n",
              "  </tbody>\n",
              "</table>\n",
              "<p>5 rows × 21 columns</p>\n",
              "</div>\n",
              "      <button class=\"colab-df-convert\" onclick=\"convertToInteractive('df-e671085b-85a3-424b-b4df-69721fd5db5b')\"\n",
              "              title=\"Convert this dataframe to an interactive table.\"\n",
              "              style=\"display:none;\">\n",
              "        \n",
              "  <svg xmlns=\"http://www.w3.org/2000/svg\" height=\"24px\"viewBox=\"0 0 24 24\"\n",
              "       width=\"24px\">\n",
              "    <path d=\"M0 0h24v24H0V0z\" fill=\"none\"/>\n",
              "    <path d=\"M18.56 5.44l.94 2.06.94-2.06 2.06-.94-2.06-.94-.94-2.06-.94 2.06-2.06.94zm-11 1L8.5 8.5l.94-2.06 2.06-.94-2.06-.94L8.5 2.5l-.94 2.06-2.06.94zm10 10l.94 2.06.94-2.06 2.06-.94-2.06-.94-.94-2.06-.94 2.06-2.06.94z\"/><path d=\"M17.41 7.96l-1.37-1.37c-.4-.4-.92-.59-1.43-.59-.52 0-1.04.2-1.43.59L10.3 9.45l-7.72 7.72c-.78.78-.78 2.05 0 2.83L4 21.41c.39.39.9.59 1.41.59.51 0 1.02-.2 1.41-.59l7.78-7.78 2.81-2.81c.8-.78.8-2.07 0-2.86zM5.41 20L4 18.59l7.72-7.72 1.47 1.35L5.41 20z\"/>\n",
              "  </svg>\n",
              "      </button>\n",
              "      \n",
              "  <style>\n",
              "    .colab-df-container {\n",
              "      display:flex;\n",
              "      flex-wrap:wrap;\n",
              "      gap: 12px;\n",
              "    }\n",
              "\n",
              "    .colab-df-convert {\n",
              "      background-color: #E8F0FE;\n",
              "      border: none;\n",
              "      border-radius: 50%;\n",
              "      cursor: pointer;\n",
              "      display: none;\n",
              "      fill: #1967D2;\n",
              "      height: 32px;\n",
              "      padding: 0 0 0 0;\n",
              "      width: 32px;\n",
              "    }\n",
              "\n",
              "    .colab-df-convert:hover {\n",
              "      background-color: #E2EBFA;\n",
              "      box-shadow: 0px 1px 2px rgba(60, 64, 67, 0.3), 0px 1px 3px 1px rgba(60, 64, 67, 0.15);\n",
              "      fill: #174EA6;\n",
              "    }\n",
              "\n",
              "    [theme=dark] .colab-df-convert {\n",
              "      background-color: #3B4455;\n",
              "      fill: #D2E3FC;\n",
              "    }\n",
              "\n",
              "    [theme=dark] .colab-df-convert:hover {\n",
              "      background-color: #434B5C;\n",
              "      box-shadow: 0px 1px 3px 1px rgba(0, 0, 0, 0.15);\n",
              "      filter: drop-shadow(0px 1px 2px rgba(0, 0, 0, 0.3));\n",
              "      fill: #FFFFFF;\n",
              "    }\n",
              "  </style>\n",
              "\n",
              "      <script>\n",
              "        const buttonEl =\n",
              "          document.querySelector('#df-e671085b-85a3-424b-b4df-69721fd5db5b button.colab-df-convert');\n",
              "        buttonEl.style.display =\n",
              "          google.colab.kernel.accessAllowed ? 'block' : 'none';\n",
              "\n",
              "        async function convertToInteractive(key) {\n",
              "          const element = document.querySelector('#df-e671085b-85a3-424b-b4df-69721fd5db5b');\n",
              "          const dataTable =\n",
              "            await google.colab.kernel.invokeFunction('convertToInteractive',\n",
              "                                                     [key], {});\n",
              "          if (!dataTable) return;\n",
              "\n",
              "          const docLinkHtml = 'Like what you see? Visit the ' +\n",
              "            '<a target=\"_blank\" href=https://colab.research.google.com/notebooks/data_table.ipynb>data table notebook</a>'\n",
              "            + ' to learn more about interactive tables.';\n",
              "          element.innerHTML = '';\n",
              "          dataTable['output_type'] = 'display_data';\n",
              "          await google.colab.output.renderOutput(dataTable, element);\n",
              "          const docLink = document.createElement('div');\n",
              "          docLink.innerHTML = docLinkHtml;\n",
              "          element.appendChild(docLink);\n",
              "        }\n",
              "      </script>\n",
              "    </div>\n",
              "  </div>\n",
              "  "
            ]
          },
          "metadata": {},
          "execution_count": 2
        }
      ]
    },
    {
      "cell_type": "code",
      "source": [
        "autism_df.columns"
      ],
      "metadata": {
        "colab": {
          "base_uri": "https://localhost:8080/"
        },
        "id": "0yUSB5Tv4AP8",
        "outputId": "146682e4-b8d1-41c3-ee2d-1af39e28ba2d"
      },
      "execution_count": null,
      "outputs": [
        {
          "output_type": "execute_result",
          "data": {
            "text/plain": [
              "Index(['A1_Score', 'A2_Score', 'A3_Score', 'A4_Score', 'A5_Score', 'A6_Score',\n",
              "       'A7_Score', 'A8_Score', 'A9_Score', 'A10_Score', 'age', 'gender',\n",
              "       'ethnicity', 'jundice', 'austim', 'contry_of_res', 'used_app_before',\n",
              "       'result', 'age_desc', 'relation', 'Class/ASD'],\n",
              "      dtype='object')"
            ]
          },
          "metadata": {},
          "execution_count": 3
        }
      ]
    },
    {
      "cell_type": "code",
      "source": [
        "#Replace incorrectly spelled column names\n",
        "#'Austim' is a feature that describes a history of autism in the family. We will replace it as 'autism_in_family'.\n",
        "autism_df.rename(columns={'jundice':'jaundice', 'austim':'autism_in_family', 'contry_of_res': 'country_of_res'}, inplace=True)\n",
        "autism_df.columns"
      ],
      "metadata": {
        "colab": {
          "base_uri": "https://localhost:8080/"
        },
        "id": "ODOxp6la4Lin",
        "outputId": "a3cf15f2-b288-46ac-dadc-fa8e3bd2cf71"
      },
      "execution_count": null,
      "outputs": [
        {
          "output_type": "execute_result",
          "data": {
            "text/plain": [
              "Index(['A1_Score', 'A2_Score', 'A3_Score', 'A4_Score', 'A5_Score', 'A6_Score',\n",
              "       'A7_Score', 'A8_Score', 'A9_Score', 'A10_Score', 'age', 'gender',\n",
              "       'ethnicity', 'jaundice', 'autism_in_family', 'country_of_res',\n",
              "       'used_app_before', 'result', 'age_desc', 'relation', 'Class/ASD'],\n",
              "      dtype='object')"
            ]
          },
          "metadata": {},
          "execution_count": 4
        }
      ]
    },
    {
      "cell_type": "code",
      "source": [
        "#Remove column 'age_desc' from dataset\n",
        "autism_df.drop(columns='age_desc', inplace=True)\n",
        "autism_df.columns"
      ],
      "metadata": {
        "colab": {
          "base_uri": "https://localhost:8080/"
        },
        "id": "NFTESNvZ5KBi",
        "outputId": "4b05c08b-d4df-409b-e9f6-e7037fba7b3a"
      },
      "execution_count": null,
      "outputs": [
        {
          "output_type": "execute_result",
          "data": {
            "text/plain": [
              "Index(['A1_Score', 'A2_Score', 'A3_Score', 'A4_Score', 'A5_Score', 'A6_Score',\n",
              "       'A7_Score', 'A8_Score', 'A9_Score', 'A10_Score', 'age', 'gender',\n",
              "       'ethnicity', 'jaundice', 'autism_in_family', 'country_of_res',\n",
              "       'used_app_before', 'result', 'relation', 'Class/ASD'],\n",
              "      dtype='object')"
            ]
          },
          "metadata": {},
          "execution_count": 5
        }
      ]
    },
    {
      "cell_type": "code",
      "source": [
        "# check for null values\n",
        "autism_df.isnull().sum()"
      ],
      "metadata": {
        "colab": {
          "base_uri": "https://localhost:8080/"
        },
        "id": "izgyS7qb0FaQ",
        "outputId": "7aae4ce9-8cda-4954-a20a-2ec9ea3ef13e"
      },
      "execution_count": null,
      "outputs": [
        {
          "output_type": "execute_result",
          "data": {
            "text/plain": [
              "A1_Score            0\n",
              "A2_Score            0\n",
              "A3_Score            0\n",
              "A4_Score            0\n",
              "A5_Score            0\n",
              "A6_Score            0\n",
              "A7_Score            0\n",
              "A8_Score            0\n",
              "A9_Score            0\n",
              "A10_Score           0\n",
              "age                 2\n",
              "gender              0\n",
              "ethnicity           0\n",
              "jaundice            0\n",
              "autism_in_family    0\n",
              "country_of_res      0\n",
              "used_app_before     0\n",
              "result              0\n",
              "relation            0\n",
              "Class/ASD           0\n",
              "dtype: int64"
            ]
          },
          "metadata": {},
          "execution_count": 6
        }
      ]
    },
    {
      "cell_type": "code",
      "source": [
        "#age has 2 missing values. \n",
        "print('Max Age: ', autism_df['age'].max())\n",
        "print('Min Age: ', autism_df['age'].min())"
      ],
      "metadata": {
        "colab": {
          "base_uri": "https://localhost:8080/"
        },
        "id": "KVZtsypU0Lej",
        "outputId": "ce85d26e-5cd0-45bf-9ac8-6040dab18213"
      },
      "execution_count": null,
      "outputs": [
        {
          "output_type": "stream",
          "name": "stdout",
          "text": [
            "Max Age:  383.0\n",
            "Min Age:  17.0\n"
          ]
        }
      ]
    },
    {
      "cell_type": "code",
      "source": [
        "# Maximum age value is an extreme outlier. Drop the value.\n",
        "print(autism_df[(autism_df['age']==383.0)].index)"
      ],
      "metadata": {
        "colab": {
          "base_uri": "https://localhost:8080/"
        },
        "id": "KR2q3WXt0eyO",
        "outputId": "dc1b9a91-e905-4f98-c6bc-67afeb7d3220"
      },
      "execution_count": null,
      "outputs": [
        {
          "output_type": "stream",
          "name": "stdout",
          "text": [
            "Int64Index([52], dtype='int64')\n"
          ]
        }
      ]
    },
    {
      "cell_type": "code",
      "source": [
        "# Drop record 52\n",
        "autism_df.drop(index=52, inplace=True)\n",
        "\n",
        "#Reset the index\n",
        "autism_df.reset_index(inplace=True)"
      ],
      "metadata": {
        "id": "PhFXDh8O05eU"
      },
      "execution_count": null,
      "outputs": []
    },
    {
      "cell_type": "code",
      "source": [
        "# Age has a strange value of 29.1940085592011\n",
        "autism_df['age'].unique()"
      ],
      "metadata": {
        "colab": {
          "base_uri": "https://localhost:8080/"
        },
        "id": "-Bqk-lPi3Uav",
        "outputId": "85794135-6156-4e64-f732-0604aad4af5c"
      },
      "execution_count": null,
      "outputs": [
        {
          "output_type": "execute_result",
          "data": {
            "text/plain": [
              "array([26., 24., 27., 35., 40., 36., 17., 64., 29., 33., 18., 31., 30.,\n",
              "       34., 38., 42., 43., 48., 37., 55., 50., 53., 20., 28., 21., 47.,\n",
              "       32., 44., nan, 19., 58., 45., 22., 39., 25., 23., 54., 60., 41.,\n",
              "       46., 56., 61., 59., 52., 49., 51.])"
            ]
          },
          "metadata": {},
          "execution_count": 10
        }
      ]
    },
    {
      "cell_type": "code",
      "source": [
        "# Replace weird value with 29\n",
        "autism_df['age'] = autism_df['age'].replace(29.1940085592011, 29)"
      ],
      "metadata": {
        "id": "DwS_sfLB4uGV"
      },
      "execution_count": null,
      "outputs": []
    },
    {
      "cell_type": "code",
      "source": [
        "autism_df['age'].unique()"
      ],
      "metadata": {
        "colab": {
          "base_uri": "https://localhost:8080/"
        },
        "id": "2PcfUWSW8NZz",
        "outputId": "39b7bfc5-aa19-4d0e-fb26-d05bf83359b5"
      },
      "execution_count": null,
      "outputs": [
        {
          "output_type": "execute_result",
          "data": {
            "text/plain": [
              "array([26.        , 24.        , 27.        , 35.        , 40.        ,\n",
              "       36.        , 17.        , 64.        , 29.        , 33.        ,\n",
              "       18.        , 31.        , 30.        , 34.        , 38.        ,\n",
              "       42.        , 43.        , 48.        , 37.        , 55.        ,\n",
              "       50.        , 53.        , 20.        , 28.        , 21.        ,\n",
              "       47.        , 32.        , 44.        , 29.19400856, 19.        ,\n",
              "       58.        , 45.        , 22.        , 39.        , 25.        ,\n",
              "       23.        , 54.        , 60.        , 41.        , 46.        ,\n",
              "       56.        , 61.        , 59.        , 52.        , 49.        ,\n",
              "       51.        ])"
            ]
          },
          "metadata": {},
          "execution_count": 24
        }
      ]
    },
    {
      "cell_type": "code",
      "source": [
        "#Impute missing values in age with the mean of age\n",
        "autism_df['age'] = autism_df['age'].fillna(autism_df['age'].mean())"
      ],
      "metadata": {
        "id": "VBDk8aVf3MEK"
      },
      "execution_count": null,
      "outputs": []
    },
    {
      "cell_type": "code",
      "source": [
        "# Check that missing values have been replaced\n",
        "autism_df.isnull().sum()"
      ],
      "metadata": {
        "colab": {
          "base_uri": "https://localhost:8080/"
        },
        "id": "ne10VcUy314O",
        "outputId": "476ffd23-6d4a-43ee-cbb5-1892be780098"
      },
      "execution_count": null,
      "outputs": [
        {
          "output_type": "execute_result",
          "data": {
            "text/plain": [
              "index               0\n",
              "A1_Score            0\n",
              "A2_Score            0\n",
              "A3_Score            0\n",
              "A4_Score            0\n",
              "A5_Score            0\n",
              "A6_Score            0\n",
              "A7_Score            0\n",
              "A8_Score            0\n",
              "A9_Score            0\n",
              "A10_Score           0\n",
              "age                 0\n",
              "gender              0\n",
              "ethnicity           0\n",
              "jaundice            0\n",
              "autism_in_family    0\n",
              "country_of_res      0\n",
              "used_app_before     0\n",
              "result              0\n",
              "relation            0\n",
              "Class/ASD           0\n",
              "dtype: int64"
            ]
          },
          "metadata": {},
          "execution_count": 13
        }
      ]
    },
    {
      "cell_type": "code",
      "source": [
        "# From EDA we know that 'ethnicity' has invalid values\n",
        "autism_df['ethnicity'].unique()"
      ],
      "metadata": {
        "colab": {
          "base_uri": "https://localhost:8080/"
        },
        "id": "hw2sP_WU5aLN",
        "outputId": "cd5c8920-5e82-4aeb-c5b6-0ba087a4851c"
      },
      "execution_count": null,
      "outputs": [
        {
          "output_type": "execute_result",
          "data": {
            "text/plain": [
              "array(['White-European', 'Latino', '?', 'Others', 'Black', 'Asian',\n",
              "       'Middle Eastern ', 'Pasifika', 'South Asian', 'Hispanic',\n",
              "       'Turkish', 'others'], dtype=object)"
            ]
          },
          "metadata": {},
          "execution_count": 14
        }
      ]
    },
    {
      "cell_type": "code",
      "source": [
        "# Replace '?' and 'others' as 'Others'\n",
        "autism_df['ethnicity'] = autism_df['ethnicity'].replace('?', 'Others')\n",
        "autism_df['ethnicity'] = autism_df['ethnicity'].replace('others', 'Others')"
      ],
      "metadata": {
        "id": "z8MWoSHZ_luW"
      },
      "execution_count": null,
      "outputs": []
    },
    {
      "cell_type": "code",
      "source": [
        "# Check ethnicity values\n",
        "autism_df['ethnicity'].unique()"
      ],
      "metadata": {
        "colab": {
          "base_uri": "https://localhost:8080/"
        },
        "id": "qad2Q2nmAP2h",
        "outputId": "3f40af76-2503-4149-f117-fc706752d14e"
      },
      "execution_count": null,
      "outputs": [
        {
          "output_type": "execute_result",
          "data": {
            "text/plain": [
              "array(['White-European', 'Latino', 'Others', 'Black', 'Asian',\n",
              "       'Middle Eastern ', 'Pasifika', 'South Asian', 'Hispanic',\n",
              "       'Turkish'], dtype=object)"
            ]
          },
          "metadata": {},
          "execution_count": 16
        }
      ]
    },
    {
      "cell_type": "code",
      "source": [
        "# From EDA we know that 'relation has invalid values\n",
        "autism_df['relation'].unique()"
      ],
      "metadata": {
        "colab": {
          "base_uri": "https://localhost:8080/"
        },
        "id": "aBBgXt6tAav2",
        "outputId": "d20d6514-3868-469b-a9aa-4f25f2ee7adb"
      },
      "execution_count": null,
      "outputs": [
        {
          "output_type": "execute_result",
          "data": {
            "text/plain": [
              "array(['Self', 'Parent', '?', 'Health care professional', 'Relative',\n",
              "       'Others'], dtype=object)"
            ]
          },
          "metadata": {},
          "execution_count": 17
        }
      ]
    },
    {
      "cell_type": "code",
      "source": [
        "# Replace '?' as 'Others'\n",
        "autism_df['relation'] = autism_df['relation'].replace('?', 'Others')\n",
        "autism_df['relation'].unique()"
      ],
      "metadata": {
        "colab": {
          "base_uri": "https://localhost:8080/"
        },
        "id": "U7GablAAoH4E",
        "outputId": "f1ac4c1e-b8fb-499f-94a9-90cdac9cc166"
      },
      "execution_count": null,
      "outputs": [
        {
          "output_type": "execute_result",
          "data": {
            "text/plain": [
              "array(['Self', 'Parent', 'Others', 'Health care professional', 'Relative'],\n",
              "      dtype=object)"
            ]
          },
          "metadata": {},
          "execution_count": 18
        }
      ]
    },
    {
      "cell_type": "code",
      "source": [
        "#drop the index column\n",
        "autism_df.drop(columns='index', inplace=True)"
      ],
      "metadata": {
        "id": "zlA32xuv22uy"
      },
      "execution_count": null,
      "outputs": []
    },
    {
      "cell_type": "code",
      "source": [
        "# Check skewness after removing extreme variable in age\n",
        "skewed = autism_df.skew(axis = 0, skipna = True)\n",
        "skewed"
      ],
      "metadata": {
        "colab": {
          "base_uri": "https://localhost:8080/"
        },
        "id": "cuzWH1c4CQHr",
        "outputId": "66dbff3c-f9fc-4172-cd25-2f896bd713f4"
      },
      "execution_count": null,
      "outputs": [
        {
          "output_type": "stream",
          "name": "stderr",
          "text": [
            "/usr/local/lib/python3.7/dist-packages/ipykernel_launcher.py:1: FutureWarning: Dropping of nuisance columns in DataFrame reductions (with 'numeric_only=None') is deprecated; in a future version this will raise TypeError.  Select only valid columns before calling the reduction.\n",
            "  \"\"\"Entry point for launching an IPython kernel.\n"
          ]
        },
        {
          "output_type": "execute_result",
          "data": {
            "text/plain": [
              "A1_Score    -0.988682\n",
              "A2_Score     0.186115\n",
              "A3_Score     0.168807\n",
              "A4_Score     0.014256\n",
              "A5_Score     0.002851\n",
              "A6_Score     0.957352\n",
              "A7_Score     0.332346\n",
              "A8_Score    -0.630645\n",
              "A9_Score     0.752161\n",
              "A10_Score   -0.302755\n",
              "age          1.036616\n",
              "result       0.323562\n",
              "dtype: float64"
            ]
          },
          "metadata": {},
          "execution_count": 27
        }
      ]
    },
    {
      "cell_type": "code",
      "source": [
        "#Download clean dataset as new csv\n",
        "from google.colab import files\n",
        "autism_df.to_csv('autism_df.csv')\n",
        "files.download('autism_df.csv')"
      ],
      "metadata": {
        "colab": {
          "base_uri": "https://localhost:8080/",
          "height": 17
        },
        "id": "eKVJD4DkpDT7",
        "outputId": "401cd378-ba59-4263-8f7b-123df2d98da5"
      },
      "execution_count": null,
      "outputs": [
        {
          "output_type": "display_data",
          "data": {
            "text/plain": [
              "<IPython.core.display.Javascript object>"
            ],
            "application/javascript": [
              "\n",
              "    async function download(id, filename, size) {\n",
              "      if (!google.colab.kernel.accessAllowed) {\n",
              "        return;\n",
              "      }\n",
              "      const div = document.createElement('div');\n",
              "      const label = document.createElement('label');\n",
              "      label.textContent = `Downloading \"${filename}\": `;\n",
              "      div.appendChild(label);\n",
              "      const progress = document.createElement('progress');\n",
              "      progress.max = size;\n",
              "      div.appendChild(progress);\n",
              "      document.body.appendChild(div);\n",
              "\n",
              "      const buffers = [];\n",
              "      let downloaded = 0;\n",
              "\n",
              "      const channel = await google.colab.kernel.comms.open(id);\n",
              "      // Send a message to notify the kernel that we're ready.\n",
              "      channel.send({})\n",
              "\n",
              "      for await (const message of channel.messages) {\n",
              "        // Send a message to notify the kernel that we're ready.\n",
              "        channel.send({})\n",
              "        if (message.buffers) {\n",
              "          for (const buffer of message.buffers) {\n",
              "            buffers.push(buffer);\n",
              "            downloaded += buffer.byteLength;\n",
              "            progress.value = downloaded;\n",
              "          }\n",
              "        }\n",
              "      }\n",
              "      const blob = new Blob(buffers, {type: 'application/binary'});\n",
              "      const a = document.createElement('a');\n",
              "      a.href = window.URL.createObjectURL(blob);\n",
              "      a.download = filename;\n",
              "      div.appendChild(a);\n",
              "      a.click();\n",
              "      div.remove();\n",
              "    }\n",
              "  "
            ]
          },
          "metadata": {}
        },
        {
          "output_type": "display_data",
          "data": {
            "text/plain": [
              "<IPython.core.display.Javascript object>"
            ],
            "application/javascript": [
              "download(\"download_1e49b934-5b3e-4b87-9026-099cb5821ce8\", \"autism_df.csv\", 53425)"
            ]
          },
          "metadata": {}
        }
      ]
    }
  ]
}